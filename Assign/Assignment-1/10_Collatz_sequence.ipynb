{
 "cells": [
  {
   "cell_type": "code",
   "execution_count": 1,
   "id": "9955894f-d832-4ba7-87ab-0413b69faa4d",
   "metadata": {},
   "outputs": [
    {
     "name": "stdin",
     "output_type": "stream",
     "text": [
      "Input a positive integer (n):  456\n"
     ]
    },
    {
     "name": "stdout",
     "output_type": "stream",
     "text": [
      "456 228 114 57 172 86 43 130 65 196 98 49 148 74 37 112 56 28 14 7 22 11 34 17 52 26 13 40 20 10 5 16 8 4 2 1 "
     ]
    }
   ],
   "source": [
    "#10 Collatz sequence\n",
    "n = int(input(\"Input a positive integer (n): \"))\n",
    "\n",
    "print(n, end=\" \")\n",
    "\n",
    "while n != 1:\n",
    "    if n % 2 == 0:\n",
    "        n = int(n / 2)\n",
    "    else:\n",
    "        n = 3 * n + 1\n",
    "    print(n, end=\" \")"
   ]
  },
  {
   "cell_type": "code",
   "execution_count": null,
   "id": "d3ff5f89-544f-4d5f-9271-4de68cd0f9e7",
   "metadata": {},
   "outputs": [],
   "source": []
  }
 ],
 "metadata": {
  "kernelspec": {
   "display_name": "Python 3 (ipykernel)",
   "language": "python",
   "name": "python3"
  },
  "language_info": {
   "codemirror_mode": {
    "name": "ipython",
    "version": 3
   },
   "file_extension": ".py",
   "mimetype": "text/x-python",
   "name": "python",
   "nbconvert_exporter": "python",
   "pygments_lexer": "ipython3",
   "version": "3.12.4"
  }
 },
 "nbformat": 4,
 "nbformat_minor": 5
}
