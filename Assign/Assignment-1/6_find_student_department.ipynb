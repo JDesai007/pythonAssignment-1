{
 "cells": [
  {
   "cell_type": "code",
   "execution_count": 9,
   "id": "0a0043ff-48be-4ef8-94bf-67d5787e0e54",
   "metadata": {},
   "outputs": [
    {
     "name": "stdin",
     "output_type": "stream",
     "text": [
      "Enter student roll no:  CS1234\n"
     ]
    },
    {
     "name": "stdout",
     "output_type": "stream",
     "text": [
      "Student found: {'name': 'manav', 'department': 'CS', 'roll_number': 'CS1234'}\n"
     ]
    }
   ],
   "source": [
    "#6 Find the student from CS department where the roll number may be in capital or small-case Letters\n",
    "\n",
    "students = [\n",
    "    {\"name\": \"manav\", \"department\": \"CS\", \"roll_number\": \"CS1234\"},\n",
    "    {\"name\": \"jaydip\", \"department\": \"Math\", \"roll_number\": \"cs3456\"},\n",
    "    {\"name\": \"harsh\", \"department\": \"CS\", \"roll_number\": \"cs5678\"},\n",
    "    {\"name\": \"Dhruv\", \"department\": \"CS\", \"roll_number\": \"CS9101\"},\n",
    "]\n",
    "\n",
    "def find_student_by_roll_number(students, roll_number):\n",
    "    # Convert the search roll number to lowercase\n",
    "    roll_number = roll_number.lower()\n",
    "    \n",
    "    for student in students:\n",
    "        # Convert the roll number in each record to lowercase for comparison\n",
    "        if student[\"department\"].lower() == \"cs\" and student[\"roll_number\"].lower() == roll_number:\n",
    "            return student\n",
    "            \n",
    "    return None\n",
    "\n",
    "# Example usage\n",
    "search_roll_number = input(\"Enter student roll no: \")\n",
    "student = find_student_by_roll_number(students, search_roll_number)\n",
    "\n",
    "if student:\n",
    "    print(f\"Student found: {student}\")\n",
    "else:\n",
    "    print(\"Student not found\")\n"
   ]
  },
  {
   "cell_type": "code",
   "execution_count": null,
   "id": "0d371ca2-9026-4d24-8ca1-d5fd560d1501",
   "metadata": {},
   "outputs": [],
   "source": []
  }
 ],
 "metadata": {
  "kernelspec": {
   "display_name": "Python 3 (ipykernel)",
   "language": "python",
   "name": "python3"
  },
  "language_info": {
   "codemirror_mode": {
    "name": "ipython",
    "version": 3
   },
   "file_extension": ".py",
   "mimetype": "text/x-python",
   "name": "python",
   "nbconvert_exporter": "python",
   "pygments_lexer": "ipython3",
   "version": "3.12.4"
  }
 },
 "nbformat": 4,
 "nbformat_minor": 5
}
