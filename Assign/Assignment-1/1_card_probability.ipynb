{
 "cells": [
  {
   "cell_type": "code",
   "execution_count": 2,
   "id": "8e9d245c-44d9-4c0d-8c18-358562b60dbf",
   "metadata": {},
   "outputs": [
    {
     "name": "stdout",
     "output_type": "stream",
     "text": [
      "The probability of a card that is neither a king nor a spade is: 0.69231\n"
     ]
    }
   ],
   "source": [
    "# 1: a card is drawn at random from a desk of well-shuffled cards. find the probability of is being neither a king nor a spade.\n",
    "\n",
    "def probability():\n",
    "    \n",
    "    total_cards = 52        # total no of card \n",
    "    kings = 4               # Total Kings in desk of card \n",
    "    spades = 13             # Total spades in desk of card\n",
    "    king_of_spades = 1      # king of spades in desck of card\n",
    "\n",
    "    kings_or_spades = kings + spades - king_of_spades\n",
    "\n",
    "    neither_king_nor_spade = total_cards - kings_or_spades\n",
    "\n",
    "    probability = neither_king_nor_spade / total_cards\n",
    "\n",
    "    return probability\n",
    "\n",
    "print(f\"The probability of a card that is neither a king nor a spade is: {probability():.5f}\")"
   ]
  },
  {
   "cell_type": "code",
   "execution_count": null,
   "id": "9ae83cd4-ac86-48f7-8b39-f461aea5c64e",
   "metadata": {},
   "outputs": [],
   "source": []
  }
 ],
 "metadata": {
  "kernelspec": {
   "display_name": "Python 3 (ipykernel)",
   "language": "python",
   "name": "python3"
  },
  "language_info": {
   "codemirror_mode": {
    "name": "ipython",
    "version": 3
   },
   "file_extension": ".py",
   "mimetype": "text/x-python",
   "name": "python",
   "nbconvert_exporter": "python",
   "pygments_lexer": "ipython3",
   "version": "3.12.4"
  }
 },
 "nbformat": 4,
 "nbformat_minor": 5
}
