{
 "cells": [
  {
   "cell_type": "code",
   "execution_count": 2,
   "id": "d3cf1cc9-6c01-4732-a6d0-816bbff6bab7",
   "metadata": {},
   "outputs": [
    {
     "name": "stdin",
     "output_type": "stream",
     "text": [
      " 240160510006\n"
     ]
    },
    {
     "name": "stdout",
     "output_type": "stream",
     "text": [
      "Satate:  2401605\n",
      "Roll no:  100\n",
      "Department:  06\n"
     ]
    }
   ],
   "source": [
    "# 3:Extracting feilds of a roll nymber using string indexing and slicing\n",
    "\n",
    "string=input()\n",
    "\n",
    "one=string[:7]\n",
    "two=string[7:10]\n",
    "three=string[10:]\n",
    "\n",
    "\n",
    "print(\"Satate: \",one)\n",
    "print(\"Roll no: \",two)\n",
    "print(\"Department: \",three)"
   ]
  },
  {
   "cell_type": "code",
   "execution_count": null,
   "id": "4e3ef313-e218-4fc9-a6e1-9c99682ec8c3",
   "metadata": {},
   "outputs": [],
   "source": []
  }
 ],
 "metadata": {
  "kernelspec": {
   "display_name": "Python 3 (ipykernel)",
   "language": "python",
   "name": "python3"
  },
  "language_info": {
   "codemirror_mode": {
    "name": "ipython",
    "version": 3
   },
   "file_extension": ".py",
   "mimetype": "text/x-python",
   "name": "python",
   "nbconvert_exporter": "python",
   "pygments_lexer": "ipython3",
   "version": "3.12.4"
  }
 },
 "nbformat": 4,
 "nbformat_minor": 5
}
