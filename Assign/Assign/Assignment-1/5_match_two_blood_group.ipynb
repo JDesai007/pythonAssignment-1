{
 "cells": [
  {
   "cell_type": "code",
   "execution_count": 2,
   "id": "b8478ad6-44aa-45db-a45e-f8912cb1f6f0",
   "metadata": {},
   "outputs": [
    {
     "name": "stdin",
     "output_type": "stream",
     "text": [
      "Enter first blood group:  AB-\n",
      "Enter blood group to Match:  O-\n"
     ]
    },
    {
     "name": "stdout",
     "output_type": "stream",
     "text": [
      " \n",
      "Blood Group is Matched\n"
     ]
    }
   ],
   "source": [
    "#5 Write a program to find out if the two blood groups match.\n",
    "\n",
    "bldgrp ={ 'A+':['A+', 'A-', 'O+', 'O-'],\n",
    "          'A-': ['A-', 'O-'],\n",
    "          'B+':['B+', 'B-', 'O+', 'O-'],\n",
    "          'B-': ['B-', 'O-'],\n",
    "          'AB+':['A+', 'A-', 'O+', 'O-','B+', 'B-','AB-'],\n",
    "         'AB-':['AB-','A-','B-','O-'],\n",
    "          'O+': ['O+', 'O-'],\n",
    "          'O-':['O-']\n",
    "        }\n",
    "\n",
    "bld_1=input(\"Enter first blood group: \").upper()\n",
    "print(\" \")\n",
    "\n",
    "bld_2=input(\"Enter blood group to Match: \").upper()\n",
    "print(\" \")\n",
    " \n",
    "if bld_1 in bldgrp and bld_2 in bldgrp:\n",
    "    if bld_2 in bldgrp[bld_1]:\n",
    "        print(\"Blood Group is Matched\")\n",
    "    else:\n",
    "        print(\"Blood Group is Not matched\")\n",
    "else:\n",
    "    print(\"Enter valid blood group\")"
   ]
  },
  {
   "cell_type": "code",
   "execution_count": null,
   "id": "4b9226ba-6eb9-4b39-9c32-74f58fbbf1dc",
   "metadata": {},
   "outputs": [],
   "source": []
  }
 ],
 "metadata": {
  "kernelspec": {
   "display_name": "Python 3 (ipykernel)",
   "language": "python",
   "name": "python3"
  },
  "language_info": {
   "codemirror_mode": {
    "name": "ipython",
    "version": 3
   },
   "file_extension": ".py",
   "mimetype": "text/x-python",
   "name": "python",
   "nbconvert_exporter": "python",
   "pygments_lexer": "ipython3",
   "version": "3.12.4"
  }
 },
 "nbformat": 4,
 "nbformat_minor": 5
}
