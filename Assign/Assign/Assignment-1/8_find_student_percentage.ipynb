{
 "cells": [
  {
   "cell_type": "code",
   "execution_count": 1,
   "id": "7731308f-b43b-40d3-b9a2-7c1baf078eaf",
   "metadata": {},
   "outputs": [
    {
     "name": "stdin",
     "output_type": "stream",
     "text": [
      "Enter the number of students:  3\n",
      "Enter mark of student 1:  56\n",
      "Enter mark of student 2:  68\n",
      "Enter mark of student 3:  78\n"
     ]
    },
    {
     "name": "stdout",
     "output_type": "stream",
     "text": [
      "Pass percentage: 100.00%\n"
     ]
    }
   ],
   "source": [
    "\n",
    "#8 Find out pass-percentage of a class.A teacher is entering the marks of students.A student passes a course if the marks are at\n",
    "# least 40 (out of 100). The teacher wants to know the percentage of students passed\n",
    "\n",
    "passed_students = 0\n",
    "\n",
    "\n",
    "num_students = int(input(\"Enter the number of students: \"))\n",
    "\n",
    "marks = []\n",
    "\n",
    "\n",
    "for i in range(num_students):\n",
    "    mark = int(input(f\"Enter mark of student {i+1}: \"))\n",
    "    marks.append(mark)\n",
    "    if mark >= 40:\n",
    "        passed_students += 1\n",
    "\n",
    "\n",
    "pass_percentage = (passed_students / num_students) * 100\n",
    "\n",
    "print(f\"Pass percentage: {pass_percentage:.2f}%\")\n"
   ]
  },
  {
   "cell_type": "code",
   "execution_count": null,
   "id": "e8df17a0-ac3a-41d6-b7d7-7282c0f392cc",
   "metadata": {},
   "outputs": [],
   "source": []
  }
 ],
 "metadata": {
  "kernelspec": {
   "display_name": "Python 3 (ipykernel)",
   "language": "python",
   "name": "python3"
  },
  "language_info": {
   "codemirror_mode": {
    "name": "ipython",
    "version": 3
   },
   "file_extension": ".py",
   "mimetype": "text/x-python",
   "name": "python",
   "nbconvert_exporter": "python",
   "pygments_lexer": "ipython3",
   "version": "3.12.4"
  }
 },
 "nbformat": 4,
 "nbformat_minor": 5
}
