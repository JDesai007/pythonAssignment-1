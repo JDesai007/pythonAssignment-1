{
 "cells": [
  {
   "cell_type": "code",
   "execution_count": 1,
   "id": "3f7ec35d-51f6-414c-b446-651d0613f5d0",
   "metadata": {},
   "outputs": [
    {
     "name": "stdin",
     "output_type": "stream",
     "text": [
      "Enter the Natural Number:  7\n"
     ]
    },
    {
     "name": "stdout",
     "output_type": "stream",
     "text": [
      "Sum of Number is:  28\n"
     ]
    }
   ],
   "source": [
    "#Find the sum of the first N natural number\n",
    "\n",
    "no = int(input(\"Enter the Natural Number: \"))\n",
    "ans = 0\n",
    "\n",
    "for i in range(0, no+1):\n",
    "    ans = ans + i\n",
    "\n",
    "print(\"Sum of Number is: \",ans)"
   ]
  },
  {
   "cell_type": "code",
   "execution_count": null,
   "id": "6a2906f1-c11c-4896-87c8-8638ab36f06b",
   "metadata": {},
   "outputs": [],
   "source": []
  }
 ],
 "metadata": {
  "kernelspec": {
   "display_name": "Python 3 (ipykernel)",
   "language": "python",
   "name": "python3"
  },
  "language_info": {
   "codemirror_mode": {
    "name": "ipython",
    "version": 3
   },
   "file_extension": ".py",
   "mimetype": "text/x-python",
   "name": "python",
   "nbconvert_exporter": "python",
   "pygments_lexer": "ipython3",
   "version": "3.12.4"
  }
 },
 "nbformat": 4,
 "nbformat_minor": 5
}
