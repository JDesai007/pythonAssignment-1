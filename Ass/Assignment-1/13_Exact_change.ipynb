{
 "cells": [
  {
   "cell_type": "code",
   "execution_count": 5,
   "id": "7368aa4c-4b6f-4f1f-8258-ae1a6c4b5d2c",
   "metadata": {},
   "outputs": [
    {
     "name": "stdout",
     "output_type": "stream",
     "text": [
      "Price:  4\n"
     ]
    },
    {
     "name": "stdout",
     "output_type": "stream",
     "text": [
      "Can you form 4 exactly using 1 2 5 ?\n",
      "Combination: 0 of 1, 2 of 2, 0 of 5\n",
      "Combination: 2 of 1, 1 of 2, 0 of 5\n",
      "Combination: 4 of 1, 0 of 2, 0 of 5\n"
     ]
    }
   ],
   "source": [
    "#13 Exact change\n",
    "price = int(input('Price: '))\n",
    "deno1=1\n",
    "deno2=2\n",
    "deno3 =5\n",
    "\n",
    "print(\"Can you form\", price, \"exactly using\", deno1, deno2, deno3, \"?\")\n",
    "found = False\n",
    "for d1 in range(0,  price + 1 // deno1):\n",
    "    for d2 in range(0, price + 1  // deno2):\n",
    "        for d3 in range(0, price + 1 // deno3):\n",
    "            if d1 * deno1 + d2 * deno2 + d3 * deno3 == price:\n",
    "                print(f\"Combination: {d1} of {deno1}, {d2} of {deno2}, {d3} of {deno3}\")\n",
    "                found = True\n",
    "\n",
    "if not found:\n",
    "    print('Combination Not create')"
   ]
  },
  {
   "cell_type": "code",
   "execution_count": null,
   "id": "727aea2c-576b-4a00-bc99-7c36fd7c33a7",
   "metadata": {},
   "outputs": [],
   "source": []
  },
  {
   "cell_type": "code",
   "execution_count": null,
   "id": "f1e3ffb3-62b7-4fd8-bac5-11b9139f22cb",
   "metadata": {},
   "outputs": [],
   "source": []
  }
 ],
 "metadata": {
  "kernelspec": {
   "display_name": "Python 3 (ipykernel)",
   "language": "python",
   "name": "python3"
  },
  "language_info": {
   "codemirror_mode": {
    "name": "ipython",
    "version": 3
   },
   "file_extension": ".py",
   "mimetype": "text/x-python",
   "name": "python",
   "nbconvert_exporter": "python",
   "pygments_lexer": "ipython3",
   "version": "3.12.4"
  }
 },
 "nbformat": 4,
 "nbformat_minor": 5
}
