{
 "cells": [
  {
   "cell_type": "code",
   "execution_count": 1,
   "id": "c7a53a91-fff1-4f01-b074-13fb331e3afe",
   "metadata": {},
   "outputs": [
    {
     "name": "stdout",
     "output_type": "stream",
     "text": [
      "<class 'set'>\n",
      "<class 'dict'>\n"
     ]
    }
   ],
   "source": [
    "#set program in python\n",
    "s={1,'a',2}\n",
    "p={}\n",
    "print(type(s))\n",
    "print(type(p))"
   ]
  },
  {
   "cell_type": "code",
   "execution_count": 17,
   "id": "d1e78ff1-0da7-4382-8504-ffc51680a1cb",
   "metadata": {},
   "outputs": [
    {
     "name": "stdout",
     "output_type": "stream",
     "text": [
      "(1, 2, 3, 'a', 'A', 1, 'A')\n",
      "{1, 2, 3, 'a', 'A'}\n",
      "['a', 'b', 1, 2, 'ee', 'a', 1, 6, 7]\n",
      "{1, 2, 6, 7, 'a', 'b', 'ee'}\n"
     ]
    }
   ],
   "source": [
    "#program for convert list to tuple\n",
    "s1=[1,2,3,'a','A',1,\"A\"]\n",
    "s2=tuple(s1)\n",
    "print(s2)\n",
    "\n",
    "#convert list to set\n",
    "s3=set(s1)\n",
    "print(s3)\n",
    "\n",
    "#convert tuple to list\n",
    "t1=('a','b',1,2,'ee','a',1,6,7)\n",
    "t2=list(t1)\n",
    "print(t2)\n",
    "\n",
    "#convert tuple to set\n",
    "t3=set(t1)\n",
    "print(t3)\n"
   ]
  },
  {
   "cell_type": "code",
   "execution_count": 8,
   "id": "6d37b752-761e-403c-a9bd-30d2f199c4b3",
   "metadata": {},
   "outputs": [
    {
     "name": "stdout",
     "output_type": "stream",
     "text": [
      "<class 'set'>\n",
      "<class 'set'>\n"
     ]
    }
   ],
   "source": [
    "#create empty set in python\n",
    "s3=set()\n",
    "print(type(s3))\n",
    "s4=set([])\n",
    "print(type(s4))"
   ]
  },
  {
   "cell_type": "code",
   "execution_count": 10,
   "id": "2275b3d7-6871-4933-aebd-2448049a911a",
   "metadata": {},
   "outputs": [
    {
     "name": "stdout",
     "output_type": "stream",
     "text": [
      "{0, 2, 4, 6, 8, 'cow', 'COW', 'dog1', 'cat'}\n"
     ]
    }
   ],
   "source": [
    "# symentic diffrence in set\n",
    "ss1={'cat','dog1','cow','COW'}\n",
    "ss2={0,2,4,6,8}\n",
    "ss3={1,2,3,4,5}\n",
    "ss4={'cat2','dog1','dog'}\n",
    "\n",
    "print(ss1^ss2)"
   ]
  },
  {
   "cell_type": "code",
   "execution_count": 11,
   "id": "70e07ffe-a75d-4f81-a35e-1ea77946837f",
   "metadata": {},
   "outputs": [
    {
     "name": "stdout",
     "output_type": "stream",
     "text": [
      "{0, 2, 'COW', 4, 6, 8, 'dog1', 'cow', 'cat'}\n",
      "{2, 4}\n",
      "{'COW', 'cow', 'cat'}\n",
      "{'dog', 'cat2'}\n",
      "{'COW', 'dog', 'cow', 'cat2', 'cat'}\n",
      "{'COW', 'dog', 'cow', 'cat2', 'cat'}\n"
     ]
    }
   ],
   "source": [
    "#practice of the set in python\n",
    "print(ss1|ss2)\n",
    "print(ss2&ss3)\n",
    "print(ss1-ss4)\n",
    "print(ss4-ss1)\n",
    "print(ss1^ss4)\n",
    "print(ss4^ss1)"
   ]
  },
  {
   "cell_type": "code",
   "execution_count": null,
   "id": "81c98b26-057d-452f-97ea-c2de326f571e",
   "metadata": {},
   "outputs": [],
   "source": []
  }
 ],
 "metadata": {
  "kernelspec": {
   "display_name": "Python 3 (ipykernel)",
   "language": "python",
   "name": "python3"
  },
  "language_info": {
   "codemirror_mode": {
    "name": "ipython",
    "version": 3
   },
   "file_extension": ".py",
   "mimetype": "text/x-python",
   "name": "python",
   "nbconvert_exporter": "python",
   "pygments_lexer": "ipython3",
   "version": "3.11.4"
  }
 },
 "nbformat": 4,
 "nbformat_minor": 5
}
