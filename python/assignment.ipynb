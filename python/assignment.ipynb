{
 "cells": [
  {
   "cell_type": "code",
   "execution_count": 4,
   "id": "f6e73805-8295-4209-8092-616617f6dba2",
   "metadata": {},
   "outputs": [
    {
     "name": "stdout",
     "output_type": "stream",
     "text": [
      "The probability of drawing a card that is neither a king nor a spade is: 0.69231\n"
     ]
    }
   ],
   "source": [
    "# 1: a card is drawn at random from a desk of well-shuffled cards. find the probability of is being neither a king nor a spade.\n",
    "\n",
    "def probability():\n",
    "    \n",
    "    total_cards = 52\n",
    "    kings = 4\n",
    "    spades = 13\n",
    "    king_of_spades = 1\n",
    "\n",
    "    kings_or_spades = kings + spades - king_of_spades\n",
    "\n",
    "    neither_king_nor_spade = total_cards - kings_or_spades\n",
    "\n",
    "    probability = neither_king_nor_spade / total_cards\n",
    "\n",
    "    return probability\n",
    "\n",
    "print(f\"The probability of drawing a card that is neither a king nor a spade is: {probability():.5f}\")\n",
    "\n"
   ]
  },
  {
   "cell_type": "code",
   "execution_count": 6,
   "id": "87a432c4-2021-404d-ad1b-98bd649ae8b5",
   "metadata": {},
   "outputs": [
    {
     "name": "stdin",
     "output_type": "stream",
     "text": [
      " 21\n"
     ]
    },
    {
     "name": "stdout",
     "output_type": "stream",
     "text": [
      "The sum of the first 21 natural numbers using a loop is: 231\n"
     ]
    }
   ],
   "source": [
    "# 2: Find the sum of the first N natural number\n",
    "\n",
    "def sum_of_natural_numbers_loop(n):\n",
    "    # Initialize sum to 0\n",
    "    total_sum = 0\n",
    "    # Loop through numbers from 1 to N\n",
    "    for i in range(1, n + 1):\n",
    "        total_sum += i\n",
    "    return total_sum\n",
    "\n",
    "# Example usage\n",
    "N = int(input())\n",
    "sum_loop = sum_of_natural_numbers_loop(N)\n",
    "print(f\"The sum of the first {N} natural numbers using a loop is: {sum_loop}\")\n"
   ]
  },
  {
   "cell_type": "code",
   "execution_count": 9,
   "id": "88604f75-5e48-4102-9ca8-d6487c51a5f4",
   "metadata": {},
   "outputs": [
    {
     "name": "stdout",
     "output_type": "stream",
     "text": [
      "Department Code: AB\n",
      "Roll Number: 1234\n",
      "Section Code: CD\n"
     ]
    }
   ],
   "source": [
    "# 3:Extracting feilds of a roll number using string indexing and slicing\n",
    "\n",
    "def extract_fields(roll_number):\n",
    "    # Extracting the department code (first 2 characters)\n",
    "    department_code = roll_number[:2]\n",
    "    \n",
    "    # Extracting the roll number (next 4 characters)\n",
    "    roll_number_field = roll_number[2:6]\n",
    "    \n",
    "    # Extracting the section code (last 2 characters)\n",
    "    section_code = roll_number[6:]\n",
    "    \n",
    "    return department_code, roll_number_field, section_code\n",
    "\n",
    "# Example usage\n",
    "roll_number = \"AB1234CD\"\n",
    "department, roll_num, section = extract_fields(roll_number)\n",
    "\n",
    "print(f\"Department Code: {department}\")\n",
    "print(f\"Roll Number: {roll_num}\")\n",
    "print(f\"Section Code: {section}\")\n"
   ]
  },
  {
   "cell_type": "code",
   "execution_count": 12,
   "id": "3401b9f4-3cad-4f07-929b-b3a859a899a2",
   "metadata": {},
   "outputs": [
    {
     "name": "stdin",
     "output_type": "stream",
     "text": [
      " manav\n"
     ]
    },
    {
     "name": "stdout",
     "output_type": "stream",
     "text": [
      "Original word: manav\n",
      "Shuffled word: manav\n"
     ]
    }
   ],
   "source": [
    "# 4:Word shuffle using string manipulation\n",
    "\n",
    "import random\n",
    "\n",
    "def shuffle_word(word):\n",
    "    # Convert the word to a list of characters\n",
    "    char_list = list(word)\n",
    "    \n",
    "    # Shuffle the list of characters\n",
    "    random.shuffle(char_list)\n",
    "    \n",
    "    # Join the list back into a string\n",
    "    shuffled_word = ''.join(char_list)\n",
    "    \n",
    "    return shuffled_word\n",
    "\n",
    "# Example usage\n",
    "word = input()\n",
    "shuffled = shuffle_word(word)\n",
    "print(f\"Original word: {word}\")\n",
    "print(f\"Shuffled word: {shuffled}\")\n"
   ]
  },
  {
   "cell_type": "code",
   "execution_count": 16,
   "id": "f5f5dad8-8e15-4f72-b407-9de514822a90",
   "metadata": {},
   "outputs": [
    {
     "name": "stdin",
     "output_type": "stream",
     "text": [
      " a+\n",
      " b-\n"
     ]
    },
    {
     "name": "stdout",
     "output_type": "stream",
     "text": [
      "The blood groups a+ and b- are not compatible.\n"
     ]
    }
   ],
   "source": [
    "# 5: Write a program to find out if the two blood groups match\n",
    "\n",
    "def is_compatible(blood1, blood2):\n",
    "    # Extract ABO type and Rh factor\n",
    "    def extract_details(blood):\n",
    "        if len(blood) < 2:\n",
    "            raise ValueError(\"Invalid blood group format\")\n",
    "        type_ab = blood[0]   # A, B, AB, O\n",
    "        rh_factor = blood[1] # + or -\n",
    "        return type_ab, rh_factor\n",
    "    \n",
    "    def is_compatible_abo(type1, type2):\n",
    "        compatibility = {\n",
    "            'A': ['A', 'O'],\n",
    "            'B': ['B', 'O'],\n",
    "            'AB': ['A', 'B', 'AB', 'O'],\n",
    "            'O': ['O']\n",
    "        }\n",
    "        return type2 in compatibility.get(type1, [])\n",
    "\n",
    "    type1, rh1 = extract_details(blood1)\n",
    "    type2, rh2 = extract_details(blood2)\n",
    "    \n",
    "    # Check ABO compatibility\n",
    "    abo_compatible = is_compatible_abo(type1, type2)\n",
    "    \n",
    "    # Check Rh factor compatibility\n",
    "    rh_compatible = (rh1 == '+' or rh2 == '+') or (rh1 == '-' and rh2 == '-')\n",
    "    \n",
    "    return abo_compatible and rh_compatible\n",
    "\n",
    "# Example usage\n",
    "blood1 = input()\n",
    "blood2 = input()\n",
    "\n",
    "if is_compatible(blood1, blood2):\n",
    "    print(f\"The blood groups {blood1} and {blood2} are compatible.\")\n",
    "else:\n",
    "    print(f\"The blood groups {blood1} and {blood2} are not compatible.\")\n"
   ]
  },
  {
   "cell_type": "code",
   "execution_count": 17,
   "id": "01e19b88-358d-4db8-944b-8afc4f9d5fb9",
   "metadata": {},
   "outputs": [
    {
     "name": "stdout",
     "output_type": "stream",
     "text": [
      "Students from CS department: ['cs1234', 'CS5678', 'CS3456', 'cs6789']\n"
     ]
    }
   ],
   "source": [
    "# 6: Find the studenty from CS department where the roll number may be in capital or small case latters\n",
    "\n",
    "def find_cs_students(roll_numbers):\n",
    "    cs_students = []\n",
    "\n",
    "    # Iterate over each roll number\n",
    "    for roll_number in roll_numbers:\n",
    "        # Convert roll number to uppercase to handle case insensitivity\n",
    "        if roll_number.upper().startswith(\"CS\"):\n",
    "            cs_students.append(roll_number)\n",
    "\n",
    "    return cs_students\n",
    "\n",
    "# Example usage\n",
    "roll_numbers = [\n",
    "    \"cs1234\",\n",
    "    \"CS5678\",\n",
    "    \"it2345\",\n",
    "    \"CS3456\",\n",
    "    \"cs6789\",\n",
    "    \"EE1234\"\n",
    "]\n",
    "\n",
    "cs_students = find_cs_students(roll_numbers)\n",
    "print(\"Students from CS department:\", cs_students)\n"
   ]
  },
  {
   "cell_type": "code",
   "execution_count": 21,
   "id": "b76e8ff1-f861-493d-8c7b-f256cbbae020",
   "metadata": {},
   "outputs": [
    {
     "name": "stdin",
     "output_type": "stream",
     "text": [
      "Enter the card value (1-13, J, Q, K, A):  k\n"
     ]
    },
    {
     "name": "stdout",
     "output_type": "stream",
     "text": [
      "The card is lucky!\n"
     ]
    }
   ],
   "source": [
    "# 7: To read a card as input and output if the card is luck or not\n",
    "\n",
    "def is_lucky_card(card):\n",
    "    # Define lucky card values\n",
    "    lucky_values = {'7', '11', '13'}\n",
    "    \n",
    "    # Map face card characters to values\n",
    "    face_card_values = {\n",
    "        'J': '11',\n",
    "        'Q': '12',\n",
    "        'K': '13',\n",
    "        'A': '1'\n",
    "    }\n",
    "    \n",
    "    # Convert the card to uppercase to handle case insensitivity\n",
    "    card = card.upper()\n",
    "    \n",
    "    # Check if the card is a face card or numeric card\n",
    "    if card in face_card_values:\n",
    "        card_value = face_card_values[card]\n",
    "    elif card.isdigit() and 1 <= int(card) <= 13:\n",
    "        card_value = card\n",
    "    else:\n",
    "        return \"Invalid card value\"\n",
    "    \n",
    "    # Check if the card value is lucky\n",
    "    if card_value in lucky_values:\n",
    "        return \"The card is lucky!\"\n",
    "    else:\n",
    "        return \"The card is not lucky.\"\n",
    "\n",
    "# Example usage\n",
    "card_input = input(\"Enter the card value (1-13, J, Q, K, A): \")\n",
    "result = is_lucky_card(card_input)\n",
    "print(result)\n"
   ]
  },
  {
   "cell_type": "code",
   "execution_count": null,
   "id": "6ec3ff71-e8f9-467c-8b6a-ef058780f6e7",
   "metadata": {},
   "outputs": [],
   "source": []
  }
 ],
 "metadata": {
  "kernelspec": {
   "display_name": "Python 3 (ipykernel)",
   "language": "python",
   "name": "python3"
  },
  "language_info": {
   "codemirror_mode": {
    "name": "ipython",
    "version": 3
   },
   "file_extension": ".py",
   "mimetype": "text/x-python",
   "name": "python",
   "nbconvert_exporter": "python",
   "pygments_lexer": "ipython3",
   "version": "3.11.4"
  }
 },
 "nbformat": 4,
 "nbformat_minor": 5
}
