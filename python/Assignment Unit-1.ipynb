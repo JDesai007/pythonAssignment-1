{
 "cells": [
  {
   "cell_type": "code",
   "execution_count": 41,
   "id": "72b49258-f48c-4668-a34c-0b1015e6bef8",
   "metadata": {},
   "outputs": [
    {
     "name": "stdout",
     "output_type": "stream",
     "text": [
      "The probability of a card that is neither a king nor a spade is: 0.69231\n"
     ]
    }
   ],
   "source": [
    "# 1: a card is drawn at random from a desk of well-shuffled cards. find the probability of is being neither a king nor a spade.\n",
    "\n",
    "def probability():\n",
    "    \n",
    "    total_cards = 52        # total no of card \n",
    "    kings = 4               # Total Kings in desk of card \n",
    "    spades = 13             # Total spades in desk of card\n",
    "    king_of_spades = 1      # king of spades in desck of card\n",
    "\n",
    "    kings_or_spades = kings + spades - king_of_spades\n",
    "\n",
    "    neither_king_nor_spade = total_cards - kings_or_spades\n",
    "\n",
    "    probability = neither_king_nor_spade / total_cards\n",
    "\n",
    "    return probability\n",
    "\n",
    "print(f\"The probability of a card that is neither a king nor a spade is: {probability():.5f}\")\n"
   ]
  },
  {
   "cell_type": "code",
   "execution_count": 23,
   "id": "6562fe1d-1d9c-4624-92fb-9597f201f7aa",
   "metadata": {},
   "outputs": [
    {
     "name": "stdin",
     "output_type": "stream",
     "text": [
      "Enter the Natural Number:  21\n"
     ]
    },
    {
     "name": "stdout",
     "output_type": "stream",
     "text": [
      "Sum of Number is:  231\n"
     ]
    }
   ],
   "source": [
    "#Find the sum of the first N natural number\n",
    "\n",
    "no = int(input(\"Enter the Natural Number: \"))\n",
    "ans = 0\n",
    "\n",
    "for i in range(0, no+1):\n",
    "    ans = ans + i\n",
    "\n",
    "print(\"Sum of Number is: \",ans)"
   ]
  },
  {
   "cell_type": "code",
   "execution_count": 36,
   "id": "f1b069b9-e433-441a-b208-d967ffd57cf2",
   "metadata": {},
   "outputs": [
    {
     "name": "stdout",
     "output_type": "stream",
     "text": [
      "Satate:  Gujarat\n",
      "Roll no:  101\n",
      "Department:  MCA\n"
     ]
    }
   ],
   "source": [
    "# 3:Extracting feilds of a roll nymber using string indexing and slicing\n",
    "\n",
    "string=\"Gujarat101MCA\"\n",
    "\n",
    "one=string[:7]\n",
    "two=string[7:10]\n",
    "three=string[10:]\n",
    "\n",
    "\n",
    "print(\"Satate: \",one)\n",
    "print(\"Roll no: \",two)\n",
    "print(\"Department: \",three)\n",
    "\n",
    "\n"
   ]
  },
  {
   "cell_type": "code",
   "execution_count": 40,
   "id": "50018394-7e81-4110-afdd-2f02b1d0c8b8",
   "metadata": {},
   "outputs": [
    {
     "name": "stdin",
     "output_type": "stream",
     "text": [
      "Enter data: gfdfsg12\n"
     ]
    },
    {
     "name": "stdout",
     "output_type": "stream",
     "text": [
      "Original word: gfdfsg12\n",
      "Shuffled word: 21gdgfsf\n"
     ]
    }
   ],
   "source": [
    "# 4:Word shuffle using string manipulation\n",
    "\n",
    "import random\n",
    "\n",
    "def shuffle_word(word):\n",
    "\n",
    "    char_list = list(word)\n",
    "    \n",
    "    random.shuffle(char_list)\n",
    "    \n",
    "    shuffled_word = ''.join(char_list)\n",
    "    \n",
    "    return shuffled_word\n",
    "\n",
    "word = input(\"Enter data:\")\n",
    "shuffled = shuffle_word(word)\n",
    "print(f\"Original word: {word}\")\n",
    "print(f\"Shuffled word: {shuffled}\")"
   ]
  },
  {
   "cell_type": "code",
   "execution_count": null,
   "id": "37e597ea-37c8-44a7-bffd-ed3ac37201a7",
   "metadata": {},
   "outputs": [],
   "source": []
  }
 ],
 "metadata": {
  "kernelspec": {
   "display_name": "Python 3 (ipykernel)",
   "language": "python",
   "name": "python3"
  },
  "language_info": {
   "codemirror_mode": {
    "name": "ipython",
    "version": 3
   },
   "file_extension": ".py",
   "mimetype": "text/x-python",
   "name": "python",
   "nbconvert_exporter": "python",
   "pygments_lexer": "ipython3",
   "version": "3.11.4"
  }
 },
 "nbformat": 4,
 "nbformat_minor": 5
}
