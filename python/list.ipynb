{
 "cells": [
  {
   "cell_type": "code",
   "execution_count": 12,
   "id": "2894e57d-330a-4f09-aca7-8379b3a58ddb",
   "metadata": {},
   "outputs": [
    {
     "name": "stdout",
     "output_type": "stream",
     "text": [
      "[1, 5.2, 'a', 45]\n",
      "a\n",
      "4\n"
     ]
    },
    {
     "data": {
      "text/plain": [
       "list"
      ]
     },
     "execution_count": 12,
     "metadata": {},
     "output_type": "execute_result"
    }
   ],
   "source": [
    "#list program in python\n",
    "l=[1,5.2,'a',45]\n",
    "print(l)\n",
    "print(l[2])\n",
    "\n",
    "print(len(l))\n",
    "type(l)"
   ]
  },
  {
   "cell_type": "code",
   "execution_count": 15,
   "id": "f672cf61-6f53-4f15-999a-15f08ccbb4c1",
   "metadata": {},
   "outputs": [
    {
     "name": "stdout",
     "output_type": "stream",
     "text": [
      "[10, 44, 56, 78]\n",
      "56\n"
     ]
    }
   ],
   "source": [
    "#List in python using list keyword\n",
    "l1=list((10,44,56,78))\n",
    "print(l1)\n",
    "print(l1[2])"
   ]
  },
  {
   "cell_type": "code",
   "execution_count": 25,
   "id": "1b61c57e-c84c-4c09-b3af-1bf315335f02",
   "metadata": {},
   "outputs": [
    {
     "name": "stdout",
     "output_type": "stream",
     "text": [
      "['BCA', 'MCA', 'PGDCA']\n",
      "MCA\n"
     ]
    }
   ],
   "source": [
    "#print a specific index array of word\n",
    "l2=list((\"BCA\",\"MCA\",\"PGDCA\"))\n",
    "print(l2)\n",
    "print(l2[1])"
   ]
  },
  {
   "cell_type": "code",
   "execution_count": 41,
   "id": "f364d045-48a2-45fa-ab5e-0a5258dfc929",
   "metadata": {},
   "outputs": [
    {
     "name": "stdout",
     "output_type": "stream",
     "text": [
      "['apple', 'banana', 'banana', 'cherry']\n",
      "['apple', 'banana', 'cherry']\n",
      "['apple', 'cherry']\n",
      "[10, 44, 56, 78]\n"
     ]
    }
   ],
   "source": [
    "#remove function in the list\n",
    "\n",
    "li=[\"apple\",\"banana\",\"banana\",\"cherry\"]\n",
    "print(li)\n",
    "li.remove(\"banana\")\n",
    "print(li)\n",
    "li.pop(1)\n",
    "print(li)\n",
    "\n",
    "#append in the list \n",
    "\n",
    "l2.append(\"This is the courses\")\n",
    "print(l1)"
   ]
  },
  {
   "cell_type": "code",
   "execution_count": 20,
   "id": "1525054f-2b1b-49e4-8351-8910cfca8462",
   "metadata": {},
   "outputs": [
    {
     "name": "stdout",
     "output_type": "stream",
     "text": [
      "[23, 50, 65, 82, 100]\n",
      "[100, 82, 65, 50, 23]\n"
     ]
    }
   ],
   "source": [
    "#list sorting in accending or decending order\n",
    "l4 = [100, 50, 65, 82, 23]\n",
    "l4.sort()\n",
    "print(l4)\n",
    "l4.sort(reverse=True)\n",
    "print(l4)\n"
   ]
  },
  {
   "cell_type": "code",
   "execution_count": 21,
   "id": "7c88c861-25ab-49d6-9bc3-b3b9deaca871",
   "metadata": {},
   "outputs": [
    {
     "name": "stdout",
     "output_type": "stream",
     "text": [
      "['apple', 'banana']\n"
     ]
    }
   ],
   "source": [
    "#find list where the name consider 'a' in the word\n",
    "l5=[\"apple\",\"banana\",\"cherry\"]\n",
    "l6=[]\n",
    "for i in l5:\n",
    "    if 'a' in i:\n",
    "        l6.append(i)\n",
    "print(l6)"
   ]
  },
  {
   "cell_type": "code",
   "execution_count": null,
   "id": "dda4caf5-7a98-4c6e-84d3-d2b2f908dfed",
   "metadata": {},
   "outputs": [],
   "source": []
  }
 ],
 "metadata": {
  "kernelspec": {
   "display_name": "Python 3 (ipykernel)",
   "language": "python",
   "name": "python3"
  },
  "language_info": {
   "codemirror_mode": {
    "name": "ipython",
    "version": 3
   },
   "file_extension": ".py",
   "mimetype": "text/x-python",
   "name": "python",
   "nbconvert_exporter": "python",
   "pygments_lexer": "ipython3",
   "version": "3.11.4"
  }
 },
 "nbformat": 4,
 "nbformat_minor": 5
}
