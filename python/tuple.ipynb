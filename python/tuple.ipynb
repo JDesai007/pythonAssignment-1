{
 "cells": [
  {
   "cell_type": "code",
   "execution_count": 5,
   "id": "48668faf-69aa-4dda-889a-704dde07f62d",
   "metadata": {},
   "outputs": [
    {
     "name": "stdout",
     "output_type": "stream",
     "text": [
      "5\n",
      "ee\n",
      "ccc\n"
     ]
    }
   ],
   "source": [
    "#tuple program and slicing\n",
    "\n",
    "x=['a',['bb',['ccc','ddd'],'ee','ff'],'g',['hh','ii'],'j']\n",
    "print(len(x))\n",
    "print(x[1][1:3][1])\n",
    "print(x[1][1:3][0][0])"
   ]
  },
  {
   "cell_type": "code",
   "execution_count": 10,
   "id": "472d3c98-34da-4b53-9dc2-1b79cdeed60c",
   "metadata": {},
   "outputs": [
    {
     "name": "stdout",
     "output_type": "stream",
     "text": [
      "[1, 'c']\n"
     ]
    }
   ],
   "source": [
    "y=[1,['a',1,'c'],2,6,7,'b']\n",
    "print(y[1][1:3])"
   ]
  },
  {
   "cell_type": "code",
   "execution_count": 11,
   "id": "cf69ac5a-e1ea-4be3-82e7-28f3ae7c6a26",
   "metadata": {},
   "outputs": [
    {
     "name": "stdout",
     "output_type": "stream",
     "text": [
      "[['a', 1, 'c'], 2]\n"
     ]
    }
   ],
   "source": [
    "print(y[1:3])"
   ]
  },
  {
   "cell_type": "code",
   "execution_count": 8,
   "id": "8fce2e51-dcb3-4035-bd95-28e5a92e990c",
   "metadata": {},
   "outputs": [
    {
     "name": "stdout",
     "output_type": "stream",
     "text": [
      "mango\n",
      "('orange', 'kiwi', 'melon', 'mango')\n",
      "('apple', 'banana', 'cherry', 'orange', 'kiwi')\n",
      "('cherry', 'orange', 'kiwi', 'melon')\n",
      "('mango',)\n"
     ]
    }
   ],
   "source": [
    "#access tuple in python\n",
    "t = (\"apple\", \"banana\", \"cherry\",\"orange\", \"kiwi\", \"melon\", \"mango\")\n",
    "print(t[-1])\n",
    "print(t[3:])\n",
    "print(t[:5])\n",
    "print(t[-5:-1])\n",
    "print(t[-1:])"
   ]
  },
  {
   "cell_type": "code",
   "execution_count": null,
   "id": "b3686452-0c26-408f-9266-4a36a51af32c",
   "metadata": {},
   "outputs": [],
   "source": []
  }
 ],
 "metadata": {
  "kernelspec": {
   "display_name": "Python 3 (ipykernel)",
   "language": "python",
   "name": "python3"
  },
  "language_info": {
   "codemirror_mode": {
    "name": "ipython",
    "version": 3
   },
   "file_extension": ".py",
   "mimetype": "text/x-python",
   "name": "python",
   "nbconvert_exporter": "python",
   "pygments_lexer": "ipython3",
   "version": "3.11.4"
  }
 },
 "nbformat": 4,
 "nbformat_minor": 5
}
