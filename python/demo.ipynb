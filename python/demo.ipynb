{
 "cells": [
  {
   "cell_type": "code",
   "execution_count": 1,
   "id": "daaec7d4-4deb-418d-bab3-931d199e5efb",
   "metadata": {},
   "outputs": [
    {
     "name": "stdout",
     "output_type": "stream",
     "text": [
      "jarat Vi\n"
     ]
    }
   ],
   "source": [
    "#String in python\n",
    "\n",
    "name=\"Gujarat Vidhyapith\"\n",
    "\n",
    "print(name[2:10])"
   ]
  },
  {
   "cell_type": "code",
   "execution_count": 2,
   "id": "c38d08a8-bbe4-4f7a-89cf-144c39196e22",
   "metadata": {},
   "outputs": [
    {
     "data": {
      "text/plain": [
       "'jrtVd'"
      ]
     },
     "execution_count": 2,
     "metadata": {},
     "output_type": "execute_result"
    }
   ],
   "source": [
    "name[2:11:2]\n",
    "#start from 2 to 10 and print 2 step"
   ]
  },
  {
   "cell_type": "code",
   "execution_count": 3,
   "id": "cc949136-928f-4e2a-af3d-5a2dd525e96c",
   "metadata": {},
   "outputs": [
    {
     "data": {
      "text/plain": [
       "'htipayhdiV tarajuG'"
      ]
     },
     "execution_count": 3,
     "metadata": {},
     "output_type": "execute_result"
    }
   ],
   "source": [
    "name[::-1]\n",
    "#print -1 to end of string"
   ]
  },
  {
   "cell_type": "code",
   "execution_count": 4,
   "id": "b4d1ceb1-7abe-4392-a223-962d9080a501",
   "metadata": {},
   "outputs": [
    {
     "data": {
      "text/plain": [
       "'Gujarat Vidhyapith'"
      ]
     },
     "execution_count": 4,
     "metadata": {},
     "output_type": "execute_result"
    }
   ],
   "source": [
    "name[::]\n",
    "#print default value"
   ]
  },
  {
   "cell_type": "code",
   "execution_count": 5,
   "id": "2e342ee4-6dd4-4208-beed-424e7e3f0cf1",
   "metadata": {},
   "outputs": [
    {
     "data": {
      "text/plain": [
       "'aa ihaih'"
      ]
     },
     "execution_count": 5,
     "metadata": {},
     "output_type": "execute_result"
    }
   ],
   "source": [
    "name[3::2]\n",
    "#start from 3 and print step by step 3"
   ]
  },
  {
   "cell_type": "code",
   "execution_count": 6,
   "id": "8784a91a-fe70-40c1-83c3-9a1432c2e3af",
   "metadata": {},
   "outputs": [
    {
     "name": "stdout",
     "output_type": "stream",
     "text": [
      "False\n",
      "A\n",
      "B\n",
      "1\n",
      "1\n",
      "guj\n",
      "True\n",
      "1.23\n"
     ]
    }
   ],
   "source": [
    "print(\"\" or False)\n",
    "print('A' or 'B')\n",
    "print('B' or 'A')\n",
    "print(1 or 'k')\n",
    "print(1 or 'k')\n",
    "print('guj' or True)\n",
    "print(True or 'Guj')\n",
    "print(False or 1.23)"
   ]
  },
  {
   "cell_type": "code",
   "execution_count": 7,
   "id": "a556baa7-17b0-484e-be18-64015f2d25a0",
   "metadata": {},
   "outputs": [
    {
     "data": {
      "text/plain": [
       "'456789'"
      ]
     },
     "execution_count": 7,
     "metadata": {},
     "output_type": "execute_result"
    }
   ],
   "source": [
    "a=\"0123456789x\"\n",
    "a[-7:-1]"
   ]
  },
  {
   "cell_type": "code",
   "execution_count": 10,
   "id": "eb540074-d49f-4fa1-8346-10b83cf21fe6",
   "metadata": {},
   "outputs": [
    {
     "name": "stdout",
     "output_type": "stream",
     "text": [
      "G\n",
      "Guj\n",
      "h\n",
      "h\n",
      "rat vidhyapith\n",
      "yapi\n",
      "jara\n",
      "jar\n",
      "ujar\n",
      "Gjrtvdypt\n",
      "Gjrtvdypt\n",
      "htipayhdiv tarajuG\n"
     ]
    }
   ],
   "source": [
    "un=\"Gujarat vidhyapith\"\n",
    "print(un[0])\n",
    "print(un[0:3])\n",
    "print(un[-1])\n",
    "print(un[-1:])\n",
    "print(un[-14:])\n",
    "print(un[12:-2])\n",
    "print(un[2:-12])\n",
    "print(un[2:5])\n",
    "print(un[1:5])\n",
    "print(un[0::2])\n",
    "print(un[::2])\n",
    "print(un[::-1])\n"
   ]
  },
  {
   "cell_type": "code",
   "execution_count": 11,
   "id": "18f09d88-a38f-41ad-a54a-937e86f5f03e",
   "metadata": {},
   "outputs": [
    {
     "data": {
      "text/plain": [
       "'GUJARAT VIDHYAPITH'"
      ]
     },
     "execution_count": 11,
     "metadata": {},
     "output_type": "execute_result"
    }
   ],
   "source": [
    "un.upper()"
   ]
  },
  {
   "cell_type": "code",
   "execution_count": 12,
   "id": "e427d167-d90d-4e01-8e84-9f8a1e61b404",
   "metadata": {},
   "outputs": [
    {
     "data": {
      "text/plain": [
       "'gujarat vidhyapith'"
      ]
     },
     "execution_count": 12,
     "metadata": {},
     "output_type": "execute_result"
    }
   ],
   "source": [
    "un.lower()"
   ]
  },
  {
   "cell_type": "code",
   "execution_count": 14,
   "id": "470b0fb0-748a-41a5-b557-5fec4dd306e9",
   "metadata": {},
   "outputs": [
    {
     "data": {
      "text/plain": [
       "'Gujarat vidhyapith'"
      ]
     },
     "execution_count": 14,
     "metadata": {},
     "output_type": "execute_result"
    }
   ],
   "source": [
    "un.capitalize()"
   ]
  },
  {
   "cell_type": "code",
   "execution_count": 26,
   "id": "878ad512-ab3b-4687-97d5-b4d34d357ca1",
   "metadata": {},
   "outputs": [
    {
     "data": {
      "text/plain": [
       "1"
      ]
     },
     "execution_count": 26,
     "metadata": {},
     "output_type": "execute_result"
    }
   ],
   "source": [
    "un.count('vi')"
   ]
  },
  {
   "cell_type": "code",
   "execution_count": 21,
   "id": "1f61cda1-114f-4df9-8974-ee0bd472956a",
   "metadata": {},
   "outputs": [
    {
     "data": {
      "text/plain": [
       "2"
      ]
     },
     "execution_count": 21,
     "metadata": {},
     "output_type": "execute_result"
    }
   ],
   "source": [
    "un.index('ja')"
   ]
  },
  {
   "cell_type": "code",
   "execution_count": 30,
   "id": "9f33348e-0652-4f5d-ac1c-b4f9bf6bb288",
   "metadata": {},
   "outputs": [
    {
     "data": {
      "text/plain": [
       "'ee'"
      ]
     },
     "execution_count": 30,
     "metadata": {},
     "output_type": "execute_result"
    }
   ],
   "source": [
    "un[3].replace('a','ee')"
   ]
  },
  {
   "cell_type": "code",
   "execution_count": null,
   "id": "b37b05f5-6033-44df-8225-5893bbb3e036",
   "metadata": {},
   "outputs": [],
   "source": [
    "    "
   ]
  }
 ],
 "metadata": {
  "kernelspec": {
   "display_name": "Python 3 (ipykernel)",
   "language": "python",
   "name": "python3"
  },
  "language_info": {
   "codemirror_mode": {
    "name": "ipython",
    "version": 3
   },
   "file_extension": ".py",
   "mimetype": "text/x-python",
   "name": "python",
   "nbconvert_exporter": "python",
   "pygments_lexer": "ipython3",
   "version": "3.11.4"
  }
 },
 "nbformat": 4,
 "nbformat_minor": 5
}
