{
 "cells": [
  {
   "cell_type": "code",
   "execution_count": 2,
   "id": "70d6fd62-5a0c-405b-a626-b9016e4dc32f",
   "metadata": {},
   "outputs": [
    {
     "name": "stdout",
     "output_type": "stream",
     "text": [
      "{1: 'sunday', 2: 'monday', 'holiday': 'Sunday'}\n",
      "<class 'dict'>\n"
     ]
    }
   ],
   "source": [
    "#Dictonaries in python and how to create a dictonaries \n",
    "\n",
    "d1={1:\"sunday\",2:\"monday\",\"holiday\":\"Sunday\"}\n",
    "print(d1)\n",
    "print(type(d1))"
   ]
  },
  {
   "cell_type": "code",
   "execution_count": 3,
   "id": "ceb10098-efc7-4cbb-bf09-6b490ec2a673",
   "metadata": {},
   "outputs": [
    {
     "name": "stdout",
     "output_type": "stream",
     "text": [
      "sunday\n",
      "Sunday\n"
     ]
    }
   ],
   "source": [
    "#print dictonaries using it key \n",
    "print(d1[1])\n",
    "print(d1['holiday'])"
   ]
  },
  {
   "cell_type": "code",
   "execution_count": 6,
   "id": "fd7014f6-433c-4a03-b9db-a9f8e93736e4",
   "metadata": {},
   "outputs": [
    {
     "name": "stdout",
     "output_type": "stream",
     "text": [
      "dict_keys([1, 2, 'holiday'])\n",
      "<class 'dict_keys'>\n"
     ]
    }
   ],
   "source": [
    "#prints all keys of dictonaries\n",
    "print(d1.keys())\n",
    "print(type(d1.keys()))"
   ]
  },
  {
   "cell_type": "code",
   "execution_count": 4,
   "id": "7bfb1232-ef96-4c5f-8aac-3aa5e08d1384",
   "metadata": {},
   "outputs": [
    {
     "name": "stdout",
     "output_type": "stream",
     "text": [
      "dict_values(['sunday', 'monday', 'Sunday'])\n",
      "<class 'dict_values'>\n"
     ]
    }
   ],
   "source": [
    "#print values of keys in dictonaries\n",
    "\n",
    "print(d1.values())\n",
    "print(type(d1.values()))"
   ]
  },
  {
   "cell_type": "code",
   "execution_count": 7,
   "id": "2c58301f-2d5e-4005-95cc-8408b44a97df",
   "metadata": {},
   "outputs": [
    {
     "name": "stdout",
     "output_type": "stream",
     "text": [
      "dict_items([(1, 'sunday'), (2, 'monday'), ('holiday', 'Sunday')])\n",
      "<class 'dict_items'>\n"
     ]
    }
   ],
   "source": [
    "#print item and values and key of dictonaries\n",
    "\n",
    "print(d1.items())\n",
    "print(type(d1.items()))"
   ]
  },
  {
   "cell_type": "code",
   "execution_count": 13,
   "id": "54f9f244-ce9b-4b53-83b2-e13198b89d3a",
   "metadata": {},
   "outputs": [
    {
     "name": "stdout",
     "output_type": "stream",
     "text": [
      "{1: 'Monday', 2: 'monday', 'holiday': 'Sunday', 'new': 'Data'}\n"
     ]
    }
   ],
   "source": [
    "#print new data in existing dictonaries\n",
    "\n",
    "d1[\"new\"]=\"Data\"\n",
    "d1[1]=\"Monday\"\n",
    "\n",
    "print(d1)"
   ]
  },
  {
   "cell_type": "code",
   "execution_count": 15,
   "id": "5cd54059-ef17-4d76-bcc4-c00402911c4b",
   "metadata": {},
   "outputs": [
    {
     "name": "stdout",
     "output_type": "stream",
     "text": [
      "Monday\n",
      "Sunday\n"
     ]
    }
   ],
   "source": [
    "#print data using get() in dictonaries\n",
    "\n",
    "print(d1.get(1))\n",
    "print(d1.get('holiday'))"
   ]
  },
  {
   "cell_type": "code",
   "execution_count": null,
   "id": "c2a5e70d-6abb-49d5-adba-1f1a42a34e49",
   "metadata": {},
   "outputs": [],
   "source": []
  }
 ],
 "metadata": {
  "kernelspec": {
   "display_name": "Python 3 (ipykernel)",
   "language": "python",
   "name": "python3"
  },
  "language_info": {
   "codemirror_mode": {
    "name": "ipython",
    "version": 3
   },
   "file_extension": ".py",
   "mimetype": "text/x-python",
   "name": "python",
   "nbconvert_exporter": "python",
   "pygments_lexer": "ipython3",
   "version": "3.11.4"
  }
 },
 "nbformat": 4,
 "nbformat_minor": 5
}
